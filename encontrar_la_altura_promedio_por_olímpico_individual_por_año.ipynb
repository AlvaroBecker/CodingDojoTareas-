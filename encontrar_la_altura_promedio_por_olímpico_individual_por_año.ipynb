{
  "nbformat": 4,
  "nbformat_minor": 0,
  "metadata": {
    "colab": {
      "provenance": [],
      "mount_file_id": "1T-MuPOazevOiYbDObDy8avAopdO0zwZa",
      "authorship_tag": "ABX9TyOGusAS+BiudOO4bDnj/1+D",
      "include_colab_link": true
    },
    "kernelspec": {
      "name": "python3",
      "display_name": "Python 3"
    },
    "language_info": {
      "name": "python"
    }
  },
  "cells": [
    {
      "cell_type": "markdown",
      "metadata": {
        "id": "view-in-github",
        "colab_type": "text"
      },
      "source": [
        "<a href=\"https://colab.research.google.com/github/AlvaroBecker/CodingDojoTareas-/blob/main/encontrar_la_altura_promedio_por_ol%C3%ADmpico_individual_por_a%C3%B1o.ipynb\" target=\"_parent\"><img src=\"https://colab.research.google.com/assets/colab-badge.svg\" alt=\"Open In Colab\"/></a>"
      ]
    },
    {
      "cell_type": "code",
      "source": [
        "import pandas as pd\n"
      ],
      "metadata": {
        "id": "QTlHIgcWMvvm"
      },
      "execution_count": 3,
      "outputs": []
    },
    {
      "cell_type": "code",
      "execution_count": 1,
      "metadata": {
        "id": "xcpNEf6PLpDf"
      },
      "outputs": [],
      "source": [
        "def format_drive_url(url):\n",
        "    file_id = url.split('/')[-2]\n",
        "    download_url = f'https://drive.google.com/uc?id={file_id}&export=download'\n",
        "    return download_url"
      ]
    },
    {
      "cell_type": "code",
      "source": [
        "url=format_drive_url('https://drive.google.com/file/d/1SrEVf2bzs_K_tr83C3Fs7Tu1v-fuEW72/view')\n",
        "df=pd.read_csv(url)"
      ],
      "metadata": {
        "id": "S4OHdlptMe9i"
      },
      "execution_count": 9,
      "outputs": []
    },
    {
      "cell_type": "markdown",
      "source": [
        "1. Carguen este conjunto de datos y explórenlo. Respondan las siguientes preguntas:\n",
        "\n",
        "     a. ¿Cuántas filas hay?\n",
        "\n",
        "     b. ¿Cuántas columnas hay?\n",
        "\n",
        "     c. ¿A qué columnas le faltan datos? (¿Por qué creen que hay muchos valores nulos en la columna Medals (medallas)?\n",
        "\n",
        "     d. ¿Cuántas entradas corresponden a la ciudad de Londres?\n",
        "\n",
        "     e. ¿Cuántos años tiene el atleta más joven en nuestros datos de muestra?  Pista: usen min()\n",
        "\n",
        "2. Creen filtros para encontrar:\n",
        "\n",
        "     a. ¿Cuántos atletas que participaron en el deporte \"Tug-Of-War\" (tira y afloja) pertenecían en el equipo “Sweden” (sueco) en el conjunto de datos de muestra?\n",
        "\n",
        "     b. ¿Cuántas medallas de oro se le entregaron a los atletas que tenían más de 40 años?\n",
        "\n",
        "3. Determinen la altura promedio de:\n",
        "\n",
        "     a. Todas las filas incluidas.\n",
        "\n",
        "     b. Todas las filas incluidas, pero agrupadas por Event (evento).\n",
        "\n",
        "     c. Bono: Este conjunto de datos contiene muchos atletas más de una vez (si compitieron en varios eventos y/o varios años). Pueden confirmarlo encontrarlo .value_counts en la columna ID.  Para la tarea del bono queremos que obtengan la altura promedio de todos los atletas, pero sin incluir algún atleta más de una vez.  Pista: Aprendimos cómo eliminar duplicados si CADA columna fuera idéntica, sin embargo, ahora tenemos que eliminar una fila cada vez que un ID se repite.  Para hacer eso, pueden usar un subconjunto de sus datos como un argumento en la función drop_duplicates.  También le pueden decir a Python cuales duplicados mantener usando el argumento keep.\n",
        "\n"
      ],
      "metadata": {
        "id": "zSFmdhImPFg-"
      }
    },
    {
      "cell_type": "code",
      "source": [
        "df"
      ],
      "metadata": {
        "colab": {
          "base_uri": "https://localhost:8080/",
          "height": 423
        },
        "id": "baDJhNfMNE6P",
        "outputId": "bc130ce4-4757-4001-d693-8fb6b26c31e9"
      },
      "execution_count": 10,
      "outputs": [
        {
          "output_type": "execute_result",
          "data": {
            "text/plain": [
              "           ID   Age  Height         Team  NOC        Games  Year  Season  \\\n",
              "0           5  21.0   185.0  Netherlands  NED  1988 Winter  1988  Winter   \n",
              "1           5  21.0   185.0  Netherlands  NED  1988 Winter  1988  Winter   \n",
              "2           5  25.0   185.0  Netherlands  NED  1992 Winter  1992  Winter   \n",
              "3           5  25.0   185.0  Netherlands  NED  1992 Winter  1992  Winter   \n",
              "4           5  27.0   185.0  Netherlands  NED  1994 Winter  1994  Winter   \n",
              "...       ...   ...     ...          ...  ...          ...   ...     ...   \n",
              "40611  135567  28.0   183.0       Russia  RUS  2004 Summer  2004  Summer   \n",
              "40612  135570  27.0   176.0       Poland  POL  2014 Winter  2014  Winter   \n",
              "40613  135570  27.0   176.0       Poland  POL  2014 Winter  2014  Winter   \n",
              "40614  135571  30.0   185.0       Poland  POL  1998 Winter  1998  Winter   \n",
              "40615  135571  34.0   185.0       Poland  POL  2002 Winter  2002  Winter   \n",
              "\n",
              "                 City          Sport  \\\n",
              "0             Calgary  Speed Skating   \n",
              "1             Calgary  Speed Skating   \n",
              "2         Albertville  Speed Skating   \n",
              "3         Albertville  Speed Skating   \n",
              "4         Lillehammer  Speed Skating   \n",
              "...               ...            ...   \n",
              "40611          Athina         Rowing   \n",
              "40612           Sochi    Ski Jumping   \n",
              "40613           Sochi    Ski Jumping   \n",
              "40614          Nagano      Bobsleigh   \n",
              "40615  Salt Lake City      Bobsleigh   \n",
              "\n",
              "                                          Event Medal  \n",
              "0              Speed Skating Women's 500 metres   NaN  \n",
              "1            Speed Skating Women's 1,000 metres   NaN  \n",
              "2              Speed Skating Women's 500 metres   NaN  \n",
              "3            Speed Skating Women's 1,000 metres   NaN  \n",
              "4              Speed Skating Women's 500 metres   NaN  \n",
              "...                                         ...   ...  \n",
              "40611    Rowing Men's Lightweight Coxless Fours   NaN  \n",
              "40612  Ski Jumping Men's Large Hill, Individual   NaN  \n",
              "40613        Ski Jumping Men's Large Hill, Team   NaN  \n",
              "40614                      Bobsleigh Men's Four   NaN  \n",
              "40615                      Bobsleigh Men's Four   NaN  \n",
              "\n",
              "[40616 rows x 12 columns]"
            ],
            "text/html": [
              "\n",
              "  <div id=\"df-5234694f-2bb1-4765-90d5-f1ee56f7e07e\">\n",
              "    <div class=\"colab-df-container\">\n",
              "      <div>\n",
              "<style scoped>\n",
              "    .dataframe tbody tr th:only-of-type {\n",
              "        vertical-align: middle;\n",
              "    }\n",
              "\n",
              "    .dataframe tbody tr th {\n",
              "        vertical-align: top;\n",
              "    }\n",
              "\n",
              "    .dataframe thead th {\n",
              "        text-align: right;\n",
              "    }\n",
              "</style>\n",
              "<table border=\"1\" class=\"dataframe\">\n",
              "  <thead>\n",
              "    <tr style=\"text-align: right;\">\n",
              "      <th></th>\n",
              "      <th>ID</th>\n",
              "      <th>Age</th>\n",
              "      <th>Height</th>\n",
              "      <th>Team</th>\n",
              "      <th>NOC</th>\n",
              "      <th>Games</th>\n",
              "      <th>Year</th>\n",
              "      <th>Season</th>\n",
              "      <th>City</th>\n",
              "      <th>Sport</th>\n",
              "      <th>Event</th>\n",
              "      <th>Medal</th>\n",
              "    </tr>\n",
              "  </thead>\n",
              "  <tbody>\n",
              "    <tr>\n",
              "      <th>0</th>\n",
              "      <td>5</td>\n",
              "      <td>21.0</td>\n",
              "      <td>185.0</td>\n",
              "      <td>Netherlands</td>\n",
              "      <td>NED</td>\n",
              "      <td>1988 Winter</td>\n",
              "      <td>1988</td>\n",
              "      <td>Winter</td>\n",
              "      <td>Calgary</td>\n",
              "      <td>Speed Skating</td>\n",
              "      <td>Speed Skating Women's 500 metres</td>\n",
              "      <td>NaN</td>\n",
              "    </tr>\n",
              "    <tr>\n",
              "      <th>1</th>\n",
              "      <td>5</td>\n",
              "      <td>21.0</td>\n",
              "      <td>185.0</td>\n",
              "      <td>Netherlands</td>\n",
              "      <td>NED</td>\n",
              "      <td>1988 Winter</td>\n",
              "      <td>1988</td>\n",
              "      <td>Winter</td>\n",
              "      <td>Calgary</td>\n",
              "      <td>Speed Skating</td>\n",
              "      <td>Speed Skating Women's 1,000 metres</td>\n",
              "      <td>NaN</td>\n",
              "    </tr>\n",
              "    <tr>\n",
              "      <th>2</th>\n",
              "      <td>5</td>\n",
              "      <td>25.0</td>\n",
              "      <td>185.0</td>\n",
              "      <td>Netherlands</td>\n",
              "      <td>NED</td>\n",
              "      <td>1992 Winter</td>\n",
              "      <td>1992</td>\n",
              "      <td>Winter</td>\n",
              "      <td>Albertville</td>\n",
              "      <td>Speed Skating</td>\n",
              "      <td>Speed Skating Women's 500 metres</td>\n",
              "      <td>NaN</td>\n",
              "    </tr>\n",
              "    <tr>\n",
              "      <th>3</th>\n",
              "      <td>5</td>\n",
              "      <td>25.0</td>\n",
              "      <td>185.0</td>\n",
              "      <td>Netherlands</td>\n",
              "      <td>NED</td>\n",
              "      <td>1992 Winter</td>\n",
              "      <td>1992</td>\n",
              "      <td>Winter</td>\n",
              "      <td>Albertville</td>\n",
              "      <td>Speed Skating</td>\n",
              "      <td>Speed Skating Women's 1,000 metres</td>\n",
              "      <td>NaN</td>\n",
              "    </tr>\n",
              "    <tr>\n",
              "      <th>4</th>\n",
              "      <td>5</td>\n",
              "      <td>27.0</td>\n",
              "      <td>185.0</td>\n",
              "      <td>Netherlands</td>\n",
              "      <td>NED</td>\n",
              "      <td>1994 Winter</td>\n",
              "      <td>1994</td>\n",
              "      <td>Winter</td>\n",
              "      <td>Lillehammer</td>\n",
              "      <td>Speed Skating</td>\n",
              "      <td>Speed Skating Women's 500 metres</td>\n",
              "      <td>NaN</td>\n",
              "    </tr>\n",
              "    <tr>\n",
              "      <th>...</th>\n",
              "      <td>...</td>\n",
              "      <td>...</td>\n",
              "      <td>...</td>\n",
              "      <td>...</td>\n",
              "      <td>...</td>\n",
              "      <td>...</td>\n",
              "      <td>...</td>\n",
              "      <td>...</td>\n",
              "      <td>...</td>\n",
              "      <td>...</td>\n",
              "      <td>...</td>\n",
              "      <td>...</td>\n",
              "    </tr>\n",
              "    <tr>\n",
              "      <th>40611</th>\n",
              "      <td>135567</td>\n",
              "      <td>28.0</td>\n",
              "      <td>183.0</td>\n",
              "      <td>Russia</td>\n",
              "      <td>RUS</td>\n",
              "      <td>2004 Summer</td>\n",
              "      <td>2004</td>\n",
              "      <td>Summer</td>\n",
              "      <td>Athina</td>\n",
              "      <td>Rowing</td>\n",
              "      <td>Rowing Men's Lightweight Coxless Fours</td>\n",
              "      <td>NaN</td>\n",
              "    </tr>\n",
              "    <tr>\n",
              "      <th>40612</th>\n",
              "      <td>135570</td>\n",
              "      <td>27.0</td>\n",
              "      <td>176.0</td>\n",
              "      <td>Poland</td>\n",
              "      <td>POL</td>\n",
              "      <td>2014 Winter</td>\n",
              "      <td>2014</td>\n",
              "      <td>Winter</td>\n",
              "      <td>Sochi</td>\n",
              "      <td>Ski Jumping</td>\n",
              "      <td>Ski Jumping Men's Large Hill, Individual</td>\n",
              "      <td>NaN</td>\n",
              "    </tr>\n",
              "    <tr>\n",
              "      <th>40613</th>\n",
              "      <td>135570</td>\n",
              "      <td>27.0</td>\n",
              "      <td>176.0</td>\n",
              "      <td>Poland</td>\n",
              "      <td>POL</td>\n",
              "      <td>2014 Winter</td>\n",
              "      <td>2014</td>\n",
              "      <td>Winter</td>\n",
              "      <td>Sochi</td>\n",
              "      <td>Ski Jumping</td>\n",
              "      <td>Ski Jumping Men's Large Hill, Team</td>\n",
              "      <td>NaN</td>\n",
              "    </tr>\n",
              "    <tr>\n",
              "      <th>40614</th>\n",
              "      <td>135571</td>\n",
              "      <td>30.0</td>\n",
              "      <td>185.0</td>\n",
              "      <td>Poland</td>\n",
              "      <td>POL</td>\n",
              "      <td>1998 Winter</td>\n",
              "      <td>1998</td>\n",
              "      <td>Winter</td>\n",
              "      <td>Nagano</td>\n",
              "      <td>Bobsleigh</td>\n",
              "      <td>Bobsleigh Men's Four</td>\n",
              "      <td>NaN</td>\n",
              "    </tr>\n",
              "    <tr>\n",
              "      <th>40615</th>\n",
              "      <td>135571</td>\n",
              "      <td>34.0</td>\n",
              "      <td>185.0</td>\n",
              "      <td>Poland</td>\n",
              "      <td>POL</td>\n",
              "      <td>2002 Winter</td>\n",
              "      <td>2002</td>\n",
              "      <td>Winter</td>\n",
              "      <td>Salt Lake City</td>\n",
              "      <td>Bobsleigh</td>\n",
              "      <td>Bobsleigh Men's Four</td>\n",
              "      <td>NaN</td>\n",
              "    </tr>\n",
              "  </tbody>\n",
              "</table>\n",
              "<p>40616 rows × 12 columns</p>\n",
              "</div>\n",
              "      <button class=\"colab-df-convert\" onclick=\"convertToInteractive('df-5234694f-2bb1-4765-90d5-f1ee56f7e07e')\"\n",
              "              title=\"Convert this dataframe to an interactive table.\"\n",
              "              style=\"display:none;\">\n",
              "        \n",
              "  <svg xmlns=\"http://www.w3.org/2000/svg\" height=\"24px\"viewBox=\"0 0 24 24\"\n",
              "       width=\"24px\">\n",
              "    <path d=\"M0 0h24v24H0V0z\" fill=\"none\"/>\n",
              "    <path d=\"M18.56 5.44l.94 2.06.94-2.06 2.06-.94-2.06-.94-.94-2.06-.94 2.06-2.06.94zm-11 1L8.5 8.5l.94-2.06 2.06-.94-2.06-.94L8.5 2.5l-.94 2.06-2.06.94zm10 10l.94 2.06.94-2.06 2.06-.94-2.06-.94-.94-2.06-.94 2.06-2.06.94z\"/><path d=\"M17.41 7.96l-1.37-1.37c-.4-.4-.92-.59-1.43-.59-.52 0-1.04.2-1.43.59L10.3 9.45l-7.72 7.72c-.78.78-.78 2.05 0 2.83L4 21.41c.39.39.9.59 1.41.59.51 0 1.02-.2 1.41-.59l7.78-7.78 2.81-2.81c.8-.78.8-2.07 0-2.86zM5.41 20L4 18.59l7.72-7.72 1.47 1.35L5.41 20z\"/>\n",
              "  </svg>\n",
              "      </button>\n",
              "      \n",
              "  <style>\n",
              "    .colab-df-container {\n",
              "      display:flex;\n",
              "      flex-wrap:wrap;\n",
              "      gap: 12px;\n",
              "    }\n",
              "\n",
              "    .colab-df-convert {\n",
              "      background-color: #E8F0FE;\n",
              "      border: none;\n",
              "      border-radius: 50%;\n",
              "      cursor: pointer;\n",
              "      display: none;\n",
              "      fill: #1967D2;\n",
              "      height: 32px;\n",
              "      padding: 0 0 0 0;\n",
              "      width: 32px;\n",
              "    }\n",
              "\n",
              "    .colab-df-convert:hover {\n",
              "      background-color: #E2EBFA;\n",
              "      box-shadow: 0px 1px 2px rgba(60, 64, 67, 0.3), 0px 1px 3px 1px rgba(60, 64, 67, 0.15);\n",
              "      fill: #174EA6;\n",
              "    }\n",
              "\n",
              "    [theme=dark] .colab-df-convert {\n",
              "      background-color: #3B4455;\n",
              "      fill: #D2E3FC;\n",
              "    }\n",
              "\n",
              "    [theme=dark] .colab-df-convert:hover {\n",
              "      background-color: #434B5C;\n",
              "      box-shadow: 0px 1px 3px 1px rgba(0, 0, 0, 0.15);\n",
              "      filter: drop-shadow(0px 1px 2px rgba(0, 0, 0, 0.3));\n",
              "      fill: #FFFFFF;\n",
              "    }\n",
              "  </style>\n",
              "\n",
              "      <script>\n",
              "        const buttonEl =\n",
              "          document.querySelector('#df-5234694f-2bb1-4765-90d5-f1ee56f7e07e button.colab-df-convert');\n",
              "        buttonEl.style.display =\n",
              "          google.colab.kernel.accessAllowed ? 'block' : 'none';\n",
              "\n",
              "        async function convertToInteractive(key) {\n",
              "          const element = document.querySelector('#df-5234694f-2bb1-4765-90d5-f1ee56f7e07e');\n",
              "          const dataTable =\n",
              "            await google.colab.kernel.invokeFunction('convertToInteractive',\n",
              "                                                     [key], {});\n",
              "          if (!dataTable) return;\n",
              "\n",
              "          const docLinkHtml = 'Like what you see? Visit the ' +\n",
              "            '<a target=\"_blank\" href=https://colab.research.google.com/notebooks/data_table.ipynb>data table notebook</a>'\n",
              "            + ' to learn more about interactive tables.';\n",
              "          element.innerHTML = '';\n",
              "          dataTable['output_type'] = 'display_data';\n",
              "          await google.colab.output.renderOutput(dataTable, element);\n",
              "          const docLink = document.createElement('div');\n",
              "          docLink.innerHTML = docLinkHtml;\n",
              "          element.appendChild(docLink);\n",
              "        }\n",
              "      </script>\n",
              "    </div>\n",
              "  </div>\n",
              "  "
            ]
          },
          "metadata": {},
          "execution_count": 10
        }
      ]
    },
    {
      "cell_type": "markdown",
      "source": [
        "a. ¿Cuántas filas hay?\n",
        "b. ¿Cuántas columnas hay?"
      ],
      "metadata": {
        "id": "21axlkjuPVV_"
      }
    },
    {
      "cell_type": "code",
      "source": [
        "df.shape "
      ],
      "metadata": {
        "colab": {
          "base_uri": "https://localhost:8080/"
        },
        "id": "Mc9Mi4kDPIer",
        "outputId": "27f9e0aa-21ba-4ad3-a42e-aafbbbce7548"
      },
      "execution_count": 26,
      "outputs": [
        {
          "output_type": "execute_result",
          "data": {
            "text/plain": [
              "(40616, 12)"
            ]
          },
          "metadata": {},
          "execution_count": 26
        }
      ]
    },
    {
      "cell_type": "markdown",
      "source": [
        "Hay 40616 filas y 12 columnas"
      ],
      "metadata": {
        "id": "5B9ilB4DPafY"
      }
    },
    {
      "cell_type": "markdown",
      "source": [
        "c. ¿A qué columnas le faltan datos? (¿Por qué creen que hay muchos valores nulos en la columna Medals (medallas)?"
      ],
      "metadata": {
        "id": "HDqMtLi7Ptv-"
      }
    },
    {
      "cell_type": "code",
      "source": [
        "df.isnull().sum()"
      ],
      "metadata": {
        "colab": {
          "base_uri": "https://localhost:8080/"
        },
        "id": "iOqrOlD5N5gU",
        "outputId": "3752c843-f22f-4e2d-fa83-5c56e66437ef"
      },
      "execution_count": 15,
      "outputs": [
        {
          "output_type": "execute_result",
          "data": {
            "text/plain": [
              "ID            0\n",
              "Age        1473\n",
              "Height     9001\n",
              "Team          0\n",
              "NOC           0\n",
              "Games         0\n",
              "Year          0\n",
              "Season        0\n",
              "City          0\n",
              "Sport         0\n",
              "Event         0\n",
              "Medal     34699\n",
              "dtype: int64"
            ]
          },
          "metadata": {},
          "execution_count": 15
        }
      ]
    },
    {
      "cell_type": "markdown",
      "source": [
        "d. ¿Cuántas entradas corresponden a la ciudad de Londres?\n"
      ],
      "metadata": {
        "id": "pytqDPdnP8Up"
      }
    },
    {
      "cell_type": "code",
      "source": [
        "df.loc[df['City']=='London']['City'].count()"
      ],
      "metadata": {
        "colab": {
          "base_uri": "https://localhost:8080/"
        },
        "id": "3zhnXscOP7Te",
        "outputId": "c0283a38-5de6-4ef7-a144-0a2c489d1df5"
      },
      "execution_count": 33,
      "outputs": [
        {
          "output_type": "execute_result",
          "data": {
            "text/plain": [
              "3370"
            ]
          },
          "metadata": {},
          "execution_count": 33
        }
      ]
    },
    {
      "cell_type": "markdown",
      "source": [
        "e. ¿Cuántos años tiene el atleta más joven en nuestros datos de muestra? Pista: usen min()\n"
      ],
      "metadata": {
        "id": "PUmdBqIUQyjA"
      }
    },
    {
      "cell_type": "code",
      "source": [
        "df['Age'].min()"
      ],
      "metadata": {
        "colab": {
          "base_uri": "https://localhost:8080/"
        },
        "id": "-o49O-0sQz26",
        "outputId": "ed4ea21e-700e-4d26-ca3b-bbda9cd265d4"
      },
      "execution_count": 34,
      "outputs": [
        {
          "output_type": "execute_result",
          "data": {
            "text/plain": [
              "11.0"
            ]
          },
          "metadata": {},
          "execution_count": 34
        }
      ]
    },
    {
      "cell_type": "markdown",
      "source": [
        " Creen filtros para encontrar:\n",
        "\n",
        "a.¿Cuántos atletas que participaron en el deporte \"Tug-Of-War\" (tira y afloja) pertenecían en el equipo “Sweden” (sueco) en el conjunto de datos de muestra?"
      ],
      "metadata": {
        "id": "4yLU6MVqRQED"
      }
    },
    {
      "cell_type": "code",
      "source": [
        "df.loc[(df['Sport']==\"Tug-Of-War\")&(df['Team']=='Sweden')].groupby('ID')['Sport'].count().sum()"
      ],
      "metadata": {
        "colab": {
          "base_uri": "https://localhost:8080/"
        },
        "id": "NeCksWVDRRWt",
        "outputId": "ae83f924-de99-4a36-9aa3-a8c44a1b2425"
      },
      "execution_count": 42,
      "outputs": [
        {
          "output_type": "execute_result",
          "data": {
            "text/plain": [
              "6"
            ]
          },
          "metadata": {},
          "execution_count": 42
        }
      ]
    },
    {
      "cell_type": "markdown",
      "source": [
        "b. ¿Cuántas medallas de oro se le entregaron a los atletas que tenían más de 40 años?"
      ],
      "metadata": {
        "id": "yLer9KQjSaN-"
      }
    },
    {
      "cell_type": "code",
      "source": [
        "df.loc[(df['Age']>40) & (df['Medal']=='Gold')]['Medal'].count()"
      ],
      "metadata": {
        "colab": {
          "base_uri": "https://localhost:8080/"
        },
        "id": "LhuGqBlbSc-a",
        "outputId": "02a5751d-6fbe-4a7d-fa7b-5bce98e61451"
      },
      "execution_count": 47,
      "outputs": [
        {
          "output_type": "execute_result",
          "data": {
            "text/plain": [
              "66"
            ]
          },
          "metadata": {},
          "execution_count": 47
        }
      ]
    },
    {
      "cell_type": "markdown",
      "source": [
        "Determinen la altura promedio de:\n",
        "\n",
        "a. Todas las filas incluidas.\n",
        "\n",
        "b. Todas las filas incluidas, pero agrupadas por Event (evento).\n",
        "\n",
        "c. Bono: Este conjunto de datos contiene muchos atletas más de una vez (si compitieron en varios eventos y/o varios años). Pueden confirmarlo encontrarlo .value_counts en la columna ID. Para la tarea del bono queremos que obtengan la altura promedio de todos los atletas, pero sin incluir algún atleta más de una vez. Pista: Aprendimos cómo eliminar duplicados si CADA columna fuera idéntica, sin embargo, ahora tenemos que eliminar una fila cada vez que un ID se repite. Para hacer eso, pueden usar un subconjunto de sus datos como un argumento en la función drop_duplicates. También le pueden decir a Python cuales duplicados mantener usando el argumento keep."
      ],
      "metadata": {
        "id": "mMk6q6mlTIl5"
      }
    },
    {
      "cell_type": "code",
      "source": [
        "df['Height'].mean()"
      ],
      "metadata": {
        "colab": {
          "base_uri": "https://localhost:8080/"
        },
        "id": "ukNWdPRBTJSb",
        "outputId": "2a8ec50b-0a09-41a7-edd5-a7015492a801"
      },
      "execution_count": 48,
      "outputs": [
        {
          "output_type": "execute_result",
          "data": {
            "text/plain": [
              "175.3811165585956"
            ]
          },
          "metadata": {},
          "execution_count": 48
        }
      ]
    },
    {
      "cell_type": "code",
      "source": [
        "df.groupby('Event')['Height'].mean()"
      ],
      "metadata": {
        "colab": {
          "base_uri": "https://localhost:8080/"
        },
        "id": "3SrmNnfATP8U",
        "outputId": "f10ea50c-ecdc-4503-a434-7f0fec9b31f0"
      },
      "execution_count": 49,
      "outputs": [
        {
          "output_type": "execute_result",
          "data": {
            "text/plain": [
              "Event\n",
              "Alpine Skiing Men's Combined                      178.547170\n",
              "Alpine Skiing Men's Downhill                      178.211679\n",
              "Alpine Skiing Men's Giant Slalom                  176.739394\n",
              "Alpine Skiing Men's Slalom                        176.482143\n",
              "Alpine Skiing Men's Super G                       179.850575\n",
              "                                                     ...    \n",
              "Wrestling Women's Flyweight, Freestyle            158.100000\n",
              "Wrestling Women's Heavyweight, Freestyle          173.444444\n",
              "Wrestling Women's Light-Heavyweight, Freestyle    170.000000\n",
              "Wrestling Women's Lightweight, Freestyle          162.666667\n",
              "Wrestling Women's Middleweight, Freestyle         164.533333\n",
              "Name: Height, Length: 726, dtype: float64"
            ]
          },
          "metadata": {},
          "execution_count": 49
        }
      ]
    },
    {
      "cell_type": "code",
      "source": [
        "df['ID'].value_counts()"
      ],
      "metadata": {
        "colab": {
          "base_uri": "https://localhost:8080/"
        },
        "id": "oDxtgwkQTYem",
        "outputId": "29e304b2-e154-41e9-f032-7850b6cf6c91"
      },
      "execution_count": 50,
      "outputs": [
        {
          "output_type": "execute_result",
          "data": {
            "text/plain": [
              "119591    36\n",
              "44875     32\n",
              "76437     31\n",
              "133279    30\n",
              "21462     29\n",
              "          ..\n",
              "78467      1\n",
              "78468      1\n",
              "78470      1\n",
              "78474      1\n",
              "91368      1\n",
              "Name: ID, Length: 20336, dtype: int64"
            ]
          },
          "metadata": {},
          "execution_count": 50
        }
      ]
    },
    {
      "cell_type": "code",
      "source": [
        "df_id_unique = df.drop_duplicates(subset='ID', keep='last').reset_index(drop=True)\n",
        "df_id_unique['Height'].mean()"
      ],
      "metadata": {
        "colab": {
          "base_uri": "https://localhost:8080/"
        },
        "id": "iK5rkw0jUHrc",
        "outputId": "cb67972c-f0d3-4859-b91a-d4a348cd030e"
      },
      "execution_count": 55,
      "outputs": [
        {
          "output_type": "execute_result",
          "data": {
            "text/plain": [
              "176.31818479042698"
            ]
          },
          "metadata": {},
          "execution_count": 55
        }
      ]
    }
  ]
}