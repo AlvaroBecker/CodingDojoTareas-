{
  "nbformat": 4,
  "nbformat_minor": 0,
  "metadata": {
    "colab": {
      "provenance": [],
      "authorship_tag": "ABX9TyOmpn6DcpdARda/e6i5tvMX",
      "include_colab_link": true
    },
    "kernelspec": {
      "name": "python3",
      "display_name": "Python 3"
    },
    "language_info": {
      "name": "python"
    }
  },
  "cells": [
    {
      "cell_type": "markdown",
      "metadata": {
        "id": "view-in-github",
        "colab_type": "text"
      },
      "source": [
        "<a href=\"https://colab.research.google.com/github/AlvaroBecker/CodingDojoTareas-/blob/main/matriz_de_confusion.ipynb\" target=\"_parent\"><img src=\"https://colab.research.google.com/assets/colab-badge.svg\" alt=\"Open In Colab\"/></a>"
      ]
    },
    {
      "cell_type": "markdown",
      "source": [
        "La tarea para este ejercicio es crear una matriz de confusión visualizada como un mapa de calor. \n",
        "\n",
        "Utilicen los resultados de los tres modelos que crearon en el ejercicio del árbol de clasificación basándose en el conjunto de datos de cáncer de mama como base de la matriz de confusión.  Los datos para este ejercicio se encuentran aquí.  El vector objetivo es el diagnóstico como maligno (M) o benigno (B).  \n",
        "\n",
        "Sklearn permite crear una matriz de confusión muy fácil.  En primer lugar, importen el matriz de confusión como se muestra:\n",
        "\n",
        "From sklearn.metrics import plot_confusion_matrix\n",
        "\n",
        "Nota: Este es solo un ejemplo de cómo se debería ver el código y la salida para un modelo instanciado como “modelo”.\n",
        "\n",
        "Para este ejercicio, pueden responder las preguntas sobre sus árboles de clasificación (aunque es posible que quieran ver los resultados del clasificador bagging y del bosque aleatorio para ver cómo se comparan)\n",
        "\n",
        "1) ¿Cuál fue la precisión del modelo? (Ya deberían haber determinado esto en el ejercicio de árbol de clasificación)\n",
        "\n",
        "Creen la matriz de confusión para responder las siguientes preguntas:\n",
        "\n",
        "2) ¿Qué condición (maligno o benigno) se considera la clase positiva en este conjunto de datos?\n",
        "\n",
        "3) ¿Cuántos falsos positivos había?\n",
        "\n",
        "4) ¿Cuántos falsos negativos había?\n",
        "\n",
        "5) Para el conjunto de datos de cáncer de mama, ¿cuál creen que sea el más problemático: los falsos positivos o los falsos negativos? Expliquen.  "
      ],
      "metadata": {
        "id": "0vkFhA8uG6KS"
      }
    },
    {
      "cell_type": "code",
      "source": [
        "url='https://drive.google.com/file/d/1Zms1RfgkWrTp7S6_BFpeELYyvX1s2FSN/view'"
      ],
      "metadata": {
        "id": "AwgaQKeDG68S"
      },
      "execution_count": 53,
      "outputs": []
    },
    {
      "cell_type": "code",
      "execution_count": 54,
      "metadata": {
        "id": "ad88C3AFGw7O"
      },
      "outputs": [],
      "source": [
        "def format_drive_url(url):\n",
        "    file_id = url.split('/')[-2]\n",
        "    download_url = f'https://drive.google.com/uc?id={file_id}&export=download'\n",
        "    return download_url"
      ]
    },
    {
      "cell_type": "code",
      "source": [
        "import pandas as pd\n",
        "df=pd.read_csv(format_drive_url(url))"
      ],
      "metadata": {
        "id": "prYtISVsHZ0f"
      },
      "execution_count": 55,
      "outputs": []
    },
    {
      "cell_type": "markdown",
      "metadata": {
        "id": "_9HdKscUINuF"
      },
      "source": [
        "Esta tarea utiliza el conjunto de datos del cáncer de mama que se puede encontrar aquí.  El vector objetivo es el diagnóstico como maligno (M) o benigno (B).  \n",
        "\n",
        "La tarea es usar un \n",
        "\n",
        "1) clasificador del árbol de decisión \n",
        "\n",
        "2) clasificador bagging y un \n",
        "\n",
        "3) clasificador de bosque aleatorio \n",
        "\n",
        "para obtener la exactitud más alta posible en el conjunto de prueba. \n",
        "\n",
        "Pueden ver los capítulos anteriores para repasar los conceptos de bagging y bosque aleatorio como se explicaron con la regresión. Se ven muy similares en un problema de clasificación, pero la predicción final es un voto de mayoría de qué clase en lugar de un promedio de valores continuos.  \n",
        "\n",
        "El siguiente código se puede utilizar para importar los modelos de árboles de clasificación requeridos:\n",
        "\n",
        " \n",
        "---"
      ]
    },
    {
      "cell_type": "code",
      "execution_count": 56,
      "metadata": {
        "id": "nm9lHoKO-XlZ"
      },
      "outputs": [],
      "source": [
        "from sklearn.tree import DecisionTreeClassifier\n",
        "from sklearn.ensemble import BaggingClassifier\n",
        "from sklearn.ensemble import RandomForestClassifier\n"
      ]
    },
    {
      "cell_type": "code",
      "execution_count": 57,
      "metadata": {
        "colab": {
          "base_uri": "https://localhost:8080/"
        },
        "id": "CW68voC7LuTI",
        "outputId": "6584362f-cf71-4e56-8835-aaeb1ee68c66"
      },
      "outputs": [
        {
          "output_type": "stream",
          "name": "stdout",
          "text": [
            "<class 'pandas.core.frame.DataFrame'>\n",
            "RangeIndex: 569 entries, 0 to 568\n",
            "Data columns (total 32 columns):\n",
            " #   Column                   Non-Null Count  Dtype  \n",
            "---  ------                   --------------  -----  \n",
            " 0   id                       569 non-null    int64  \n",
            " 1   diagnosis                569 non-null    object \n",
            " 2   radius_mean              569 non-null    float64\n",
            " 3   texture_mean             569 non-null    float64\n",
            " 4   perimeter_mean           569 non-null    float64\n",
            " 5   area_mean                569 non-null    float64\n",
            " 6   smoothness_mean          569 non-null    float64\n",
            " 7   compactness_mean         569 non-null    float64\n",
            " 8   concavity_mean           569 non-null    float64\n",
            " 9   concave points_mean      569 non-null    float64\n",
            " 10  symmetry_mean            569 non-null    float64\n",
            " 11  fractal_dimension_mean   569 non-null    float64\n",
            " 12  radius_se                569 non-null    float64\n",
            " 13  texture_se               569 non-null    float64\n",
            " 14  perimeter_se             569 non-null    float64\n",
            " 15  area_se                  569 non-null    float64\n",
            " 16  smoothness_se            569 non-null    float64\n",
            " 17  compactness_se           569 non-null    float64\n",
            " 18  concavity_se             569 non-null    float64\n",
            " 19  concave points_se        569 non-null    float64\n",
            " 20  symmetry_se              569 non-null    float64\n",
            " 21  fractal_dimension_se     569 non-null    float64\n",
            " 22  radius_worst             569 non-null    float64\n",
            " 23  texture_worst            569 non-null    float64\n",
            " 24  perimeter_worst          569 non-null    float64\n",
            " 25  area_worst               569 non-null    float64\n",
            " 26  smoothness_worst         569 non-null    float64\n",
            " 27  compactness_worst        569 non-null    float64\n",
            " 28  concavity_worst          569 non-null    float64\n",
            " 29  concave points_worst     569 non-null    float64\n",
            " 30  symmetry_worst           569 non-null    float64\n",
            " 31  fractal_dimension_worst  569 non-null    float64\n",
            "dtypes: float64(30), int64(1), object(1)\n",
            "memory usage: 142.4+ KB\n"
          ]
        }
      ],
      "source": [
        "df.info()"
      ]
    },
    {
      "cell_type": "code",
      "execution_count": 58,
      "metadata": {
        "colab": {
          "base_uri": "https://localhost:8080/",
          "height": 317
        },
        "id": "vpA1YrSALywV",
        "outputId": "bb53d12b-519f-48ce-d476-64dfc51dde51"
      },
      "outputs": [
        {
          "output_type": "execute_result",
          "data": {
            "text/plain": [
              "         id diagnosis  radius_mean  texture_mean  perimeter_mean  area_mean  \\\n",
              "0    842302         M        17.99         10.38          122.80     1001.0   \n",
              "1    842517         M        20.57         17.77          132.90     1326.0   \n",
              "2  84300903         M        19.69         21.25          130.00     1203.0   \n",
              "3  84348301         M        11.42         20.38           77.58      386.1   \n",
              "4  84358402         M        20.29         14.34          135.10     1297.0   \n",
              "\n",
              "   smoothness_mean  compactness_mean  concavity_mean  concave points_mean  \\\n",
              "0          0.11840           0.27760          0.3001              0.14710   \n",
              "1          0.08474           0.07864          0.0869              0.07017   \n",
              "2          0.10960           0.15990          0.1974              0.12790   \n",
              "3          0.14250           0.28390          0.2414              0.10520   \n",
              "4          0.10030           0.13280          0.1980              0.10430   \n",
              "\n",
              "   ...  radius_worst  texture_worst  perimeter_worst  area_worst  \\\n",
              "0  ...         25.38          17.33           184.60      2019.0   \n",
              "1  ...         24.99          23.41           158.80      1956.0   \n",
              "2  ...         23.57          25.53           152.50      1709.0   \n",
              "3  ...         14.91          26.50            98.87       567.7   \n",
              "4  ...         22.54          16.67           152.20      1575.0   \n",
              "\n",
              "   smoothness_worst  compactness_worst  concavity_worst  concave points_worst  \\\n",
              "0            0.1622             0.6656           0.7119                0.2654   \n",
              "1            0.1238             0.1866           0.2416                0.1860   \n",
              "2            0.1444             0.4245           0.4504                0.2430   \n",
              "3            0.2098             0.8663           0.6869                0.2575   \n",
              "4            0.1374             0.2050           0.4000                0.1625   \n",
              "\n",
              "   symmetry_worst  fractal_dimension_worst  \n",
              "0          0.4601                  0.11890  \n",
              "1          0.2750                  0.08902  \n",
              "2          0.3613                  0.08758  \n",
              "3          0.6638                  0.17300  \n",
              "4          0.2364                  0.07678  \n",
              "\n",
              "[5 rows x 32 columns]"
            ],
            "text/html": [
              "\n",
              "  <div id=\"df-bdbeebce-030e-4447-99f8-25d44d52f8bf\">\n",
              "    <div class=\"colab-df-container\">\n",
              "      <div>\n",
              "<style scoped>\n",
              "    .dataframe tbody tr th:only-of-type {\n",
              "        vertical-align: middle;\n",
              "    }\n",
              "\n",
              "    .dataframe tbody tr th {\n",
              "        vertical-align: top;\n",
              "    }\n",
              "\n",
              "    .dataframe thead th {\n",
              "        text-align: right;\n",
              "    }\n",
              "</style>\n",
              "<table border=\"1\" class=\"dataframe\">\n",
              "  <thead>\n",
              "    <tr style=\"text-align: right;\">\n",
              "      <th></th>\n",
              "      <th>id</th>\n",
              "      <th>diagnosis</th>\n",
              "      <th>radius_mean</th>\n",
              "      <th>texture_mean</th>\n",
              "      <th>perimeter_mean</th>\n",
              "      <th>area_mean</th>\n",
              "      <th>smoothness_mean</th>\n",
              "      <th>compactness_mean</th>\n",
              "      <th>concavity_mean</th>\n",
              "      <th>concave points_mean</th>\n",
              "      <th>...</th>\n",
              "      <th>radius_worst</th>\n",
              "      <th>texture_worst</th>\n",
              "      <th>perimeter_worst</th>\n",
              "      <th>area_worst</th>\n",
              "      <th>smoothness_worst</th>\n",
              "      <th>compactness_worst</th>\n",
              "      <th>concavity_worst</th>\n",
              "      <th>concave points_worst</th>\n",
              "      <th>symmetry_worst</th>\n",
              "      <th>fractal_dimension_worst</th>\n",
              "    </tr>\n",
              "  </thead>\n",
              "  <tbody>\n",
              "    <tr>\n",
              "      <th>0</th>\n",
              "      <td>842302</td>\n",
              "      <td>M</td>\n",
              "      <td>17.99</td>\n",
              "      <td>10.38</td>\n",
              "      <td>122.80</td>\n",
              "      <td>1001.0</td>\n",
              "      <td>0.11840</td>\n",
              "      <td>0.27760</td>\n",
              "      <td>0.3001</td>\n",
              "      <td>0.14710</td>\n",
              "      <td>...</td>\n",
              "      <td>25.38</td>\n",
              "      <td>17.33</td>\n",
              "      <td>184.60</td>\n",
              "      <td>2019.0</td>\n",
              "      <td>0.1622</td>\n",
              "      <td>0.6656</td>\n",
              "      <td>0.7119</td>\n",
              "      <td>0.2654</td>\n",
              "      <td>0.4601</td>\n",
              "      <td>0.11890</td>\n",
              "    </tr>\n",
              "    <tr>\n",
              "      <th>1</th>\n",
              "      <td>842517</td>\n",
              "      <td>M</td>\n",
              "      <td>20.57</td>\n",
              "      <td>17.77</td>\n",
              "      <td>132.90</td>\n",
              "      <td>1326.0</td>\n",
              "      <td>0.08474</td>\n",
              "      <td>0.07864</td>\n",
              "      <td>0.0869</td>\n",
              "      <td>0.07017</td>\n",
              "      <td>...</td>\n",
              "      <td>24.99</td>\n",
              "      <td>23.41</td>\n",
              "      <td>158.80</td>\n",
              "      <td>1956.0</td>\n",
              "      <td>0.1238</td>\n",
              "      <td>0.1866</td>\n",
              "      <td>0.2416</td>\n",
              "      <td>0.1860</td>\n",
              "      <td>0.2750</td>\n",
              "      <td>0.08902</td>\n",
              "    </tr>\n",
              "    <tr>\n",
              "      <th>2</th>\n",
              "      <td>84300903</td>\n",
              "      <td>M</td>\n",
              "      <td>19.69</td>\n",
              "      <td>21.25</td>\n",
              "      <td>130.00</td>\n",
              "      <td>1203.0</td>\n",
              "      <td>0.10960</td>\n",
              "      <td>0.15990</td>\n",
              "      <td>0.1974</td>\n",
              "      <td>0.12790</td>\n",
              "      <td>...</td>\n",
              "      <td>23.57</td>\n",
              "      <td>25.53</td>\n",
              "      <td>152.50</td>\n",
              "      <td>1709.0</td>\n",
              "      <td>0.1444</td>\n",
              "      <td>0.4245</td>\n",
              "      <td>0.4504</td>\n",
              "      <td>0.2430</td>\n",
              "      <td>0.3613</td>\n",
              "      <td>0.08758</td>\n",
              "    </tr>\n",
              "    <tr>\n",
              "      <th>3</th>\n",
              "      <td>84348301</td>\n",
              "      <td>M</td>\n",
              "      <td>11.42</td>\n",
              "      <td>20.38</td>\n",
              "      <td>77.58</td>\n",
              "      <td>386.1</td>\n",
              "      <td>0.14250</td>\n",
              "      <td>0.28390</td>\n",
              "      <td>0.2414</td>\n",
              "      <td>0.10520</td>\n",
              "      <td>...</td>\n",
              "      <td>14.91</td>\n",
              "      <td>26.50</td>\n",
              "      <td>98.87</td>\n",
              "      <td>567.7</td>\n",
              "      <td>0.2098</td>\n",
              "      <td>0.8663</td>\n",
              "      <td>0.6869</td>\n",
              "      <td>0.2575</td>\n",
              "      <td>0.6638</td>\n",
              "      <td>0.17300</td>\n",
              "    </tr>\n",
              "    <tr>\n",
              "      <th>4</th>\n",
              "      <td>84358402</td>\n",
              "      <td>M</td>\n",
              "      <td>20.29</td>\n",
              "      <td>14.34</td>\n",
              "      <td>135.10</td>\n",
              "      <td>1297.0</td>\n",
              "      <td>0.10030</td>\n",
              "      <td>0.13280</td>\n",
              "      <td>0.1980</td>\n",
              "      <td>0.10430</td>\n",
              "      <td>...</td>\n",
              "      <td>22.54</td>\n",
              "      <td>16.67</td>\n",
              "      <td>152.20</td>\n",
              "      <td>1575.0</td>\n",
              "      <td>0.1374</td>\n",
              "      <td>0.2050</td>\n",
              "      <td>0.4000</td>\n",
              "      <td>0.1625</td>\n",
              "      <td>0.2364</td>\n",
              "      <td>0.07678</td>\n",
              "    </tr>\n",
              "  </tbody>\n",
              "</table>\n",
              "<p>5 rows × 32 columns</p>\n",
              "</div>\n",
              "      <button class=\"colab-df-convert\" onclick=\"convertToInteractive('df-bdbeebce-030e-4447-99f8-25d44d52f8bf')\"\n",
              "              title=\"Convert this dataframe to an interactive table.\"\n",
              "              style=\"display:none;\">\n",
              "        \n",
              "  <svg xmlns=\"http://www.w3.org/2000/svg\" height=\"24px\"viewBox=\"0 0 24 24\"\n",
              "       width=\"24px\">\n",
              "    <path d=\"M0 0h24v24H0V0z\" fill=\"none\"/>\n",
              "    <path d=\"M18.56 5.44l.94 2.06.94-2.06 2.06-.94-2.06-.94-.94-2.06-.94 2.06-2.06.94zm-11 1L8.5 8.5l.94-2.06 2.06-.94-2.06-.94L8.5 2.5l-.94 2.06-2.06.94zm10 10l.94 2.06.94-2.06 2.06-.94-2.06-.94-.94-2.06-.94 2.06-2.06.94z\"/><path d=\"M17.41 7.96l-1.37-1.37c-.4-.4-.92-.59-1.43-.59-.52 0-1.04.2-1.43.59L10.3 9.45l-7.72 7.72c-.78.78-.78 2.05 0 2.83L4 21.41c.39.39.9.59 1.41.59.51 0 1.02-.2 1.41-.59l7.78-7.78 2.81-2.81c.8-.78.8-2.07 0-2.86zM5.41 20L4 18.59l7.72-7.72 1.47 1.35L5.41 20z\"/>\n",
              "  </svg>\n",
              "      </button>\n",
              "      \n",
              "  <style>\n",
              "    .colab-df-container {\n",
              "      display:flex;\n",
              "      flex-wrap:wrap;\n",
              "      gap: 12px;\n",
              "    }\n",
              "\n",
              "    .colab-df-convert {\n",
              "      background-color: #E8F0FE;\n",
              "      border: none;\n",
              "      border-radius: 50%;\n",
              "      cursor: pointer;\n",
              "      display: none;\n",
              "      fill: #1967D2;\n",
              "      height: 32px;\n",
              "      padding: 0 0 0 0;\n",
              "      width: 32px;\n",
              "    }\n",
              "\n",
              "    .colab-df-convert:hover {\n",
              "      background-color: #E2EBFA;\n",
              "      box-shadow: 0px 1px 2px rgba(60, 64, 67, 0.3), 0px 1px 3px 1px rgba(60, 64, 67, 0.15);\n",
              "      fill: #174EA6;\n",
              "    }\n",
              "\n",
              "    [theme=dark] .colab-df-convert {\n",
              "      background-color: #3B4455;\n",
              "      fill: #D2E3FC;\n",
              "    }\n",
              "\n",
              "    [theme=dark] .colab-df-convert:hover {\n",
              "      background-color: #434B5C;\n",
              "      box-shadow: 0px 1px 3px 1px rgba(0, 0, 0, 0.15);\n",
              "      filter: drop-shadow(0px 1px 2px rgba(0, 0, 0, 0.3));\n",
              "      fill: #FFFFFF;\n",
              "    }\n",
              "  </style>\n",
              "\n",
              "      <script>\n",
              "        const buttonEl =\n",
              "          document.querySelector('#df-bdbeebce-030e-4447-99f8-25d44d52f8bf button.colab-df-convert');\n",
              "        buttonEl.style.display =\n",
              "          google.colab.kernel.accessAllowed ? 'block' : 'none';\n",
              "\n",
              "        async function convertToInteractive(key) {\n",
              "          const element = document.querySelector('#df-bdbeebce-030e-4447-99f8-25d44d52f8bf');\n",
              "          const dataTable =\n",
              "            await google.colab.kernel.invokeFunction('convertToInteractive',\n",
              "                                                     [key], {});\n",
              "          if (!dataTable) return;\n",
              "\n",
              "          const docLinkHtml = 'Like what you see? Visit the ' +\n",
              "            '<a target=\"_blank\" href=https://colab.research.google.com/notebooks/data_table.ipynb>data table notebook</a>'\n",
              "            + ' to learn more about interactive tables.';\n",
              "          element.innerHTML = '';\n",
              "          dataTable['output_type'] = 'display_data';\n",
              "          await google.colab.output.renderOutput(dataTable, element);\n",
              "          const docLink = document.createElement('div');\n",
              "          docLink.innerHTML = docLinkHtml;\n",
              "          element.appendChild(docLink);\n",
              "        }\n",
              "      </script>\n",
              "    </div>\n",
              "  </div>\n",
              "  "
            ]
          },
          "metadata": {},
          "execution_count": 58
        }
      ],
      "source": [
        "df.head()\n"
      ]
    },
    {
      "cell_type": "code",
      "execution_count": 59,
      "metadata": {
        "id": "zsHNF1UcL06Q"
      },
      "outputs": [],
      "source": [
        "y=df['diagnosis']\n",
        "X=df.drop(columns=['id','diagnosis'])\n",
        "class_names = df['diagnosis'].unique()"
      ]
    },
    {
      "cell_type": "code",
      "execution_count": 60,
      "metadata": {
        "id": "0Q2aISdvMlLZ"
      },
      "outputs": [],
      "source": [
        "import numpy as np\n",
        "from sklearn.preprocessing import StandardScaler, OneHotEncoder\n",
        "from sklearn.model_selection import train_test_split\n",
        "from sklearn import set_config"
      ]
    },
    {
      "cell_type": "code",
      "execution_count": 61,
      "metadata": {
        "id": "T7m8614yM1PZ"
      },
      "outputs": [],
      "source": [
        "set_config(display='diagram')\n",
        "X_train,X_test, y_train, y_test = train_test_split(X,y, test_size=.2,random_state=42)"
      ]
    },
    {
      "cell_type": "code",
      "execution_count": 62,
      "metadata": {
        "id": "FVY2kp9ZVFa8"
      },
      "outputs": [],
      "source": [
        "from sklearn.ensemble import BaggingClassifier, RandomForestClassifier\n",
        "from sklearn.preprocessing import StandardScaler\n",
        "from sklearn.pipeline import Pipeline\n",
        "from sklearn.tree import DecisionTreeClassifier\n",
        "\n",
        "# Lista de valores a probar para max_depth:\n",
        "max_depth_range = list(range(2, 36)) # will try every value between 2 and 36\n",
        "\n",
        "mdr_list=[]\n",
        "# DecisionTreeClassifier with max_depth loop\n",
        "best_score_dt = 0\n",
        "best_max_depth_dt = 1\n",
        "\n",
        "for max_depth in max_depth_range:\n",
        "    dt_pipe = Pipeline([\n",
        "        ('scaler', StandardScaler()),\n",
        "        ('classifier', DecisionTreeClassifier(max_depth=best_max_depth_dt, random_state=42))\n",
        "    ])\n",
        "\n",
        "    dt_pipe.fit(X_train, y_train)\n",
        "    score = dt_pipe.score(X_test, y_test)\n",
        "    mdr_list.append(score)\n",
        "    if score > best_score_dt:\n",
        "        best_score_dt = score\n",
        "        best_max_depth_dt = max_depth\n",
        "\n",
        "\n",
        "\n",
        "# Lista de valores a probar para n_estimators:\n",
        "n_estimators_range = list(range(10, 101, 10)) # will try every value between 10 and 100 with a step of 10\n",
        "ner_list_bagging=[]\n",
        "# BaggingClassifier with n_estimators loop\n",
        "best_score_bc = 0\n",
        "best_n_estimators_bc = 1\n",
        "\n",
        "for n_estimators in n_estimators_range:\n",
        "    bc_pipe = Pipeline([\n",
        "        ('scaler', StandardScaler()),\n",
        "        ('classifier', BaggingClassifier(n_estimators=best_n_estimators_bc, random_state=42))\n",
        "    ])\n",
        "\n",
        "    bc_pipe.fit(X_train, y_train)\n",
        "    score = bc_pipe.score(X_test, y_test)\n",
        "    ner_list_bagging.append(score)\n",
        "    if score > best_score_bc:\n",
        "        best_score_bc = score\n",
        "        best_n_estimators_bc = n_estimators\n",
        "\n",
        "# RandomForestClassifier\n",
        "best_score_rfc = 0\n",
        "best_n_estimators_rfc = 1\n",
        "ner_list_random=[]\n",
        "for n_estimators in n_estimators_range:\n",
        "    rfc_pipe = Pipeline([\n",
        "        ('scaler', StandardScaler()),\n",
        "        ('classifier', RandomForestClassifier(n_estimators=best_n_estimators_rfc, random_state=42))\n",
        "    ])\n",
        "\n",
        "    rfc_pipe.fit(X_train, y_train)\n",
        "    score = rfc_pipe.score(X_test, y_test)\n",
        "    ner_list_random.append(score)\n",
        "    if score > best_score_rfc:\n",
        "        best_score_rfc = score\n",
        "        best_n_estimators_rfc = n_estimators\n",
        "\n",
        "\n"
      ]
    },
    {
      "cell_type": "code",
      "source": [
        "print(\"Best max_depth value for DecisionTreeClassifier:\", best_max_depth_dt)\n",
        "print(\"Best score for DecisionTreeClassifier:\", best_score_dt)\n",
        "print(\"Best n_estimators value for BaggingClassifier:\", best_n_estimators_bc)\n",
        "print(\"Best score for BaggingClassifier:\", best_score_bc)\n",
        "print(\"Best n_estimators value for RandomForestClassifier:\", best_n_estimators_rfc)\n",
        "print(\"Best score for RandomForestClassifier:\", best_score_rfc)"
      ],
      "metadata": {
        "colab": {
          "base_uri": "https://localhost:8080/"
        },
        "id": "uRbJm5SGcfv3",
        "outputId": "9d1b9cbf-92b4-423b-f0fd-149e323ef48d"
      },
      "execution_count": 63,
      "outputs": [
        {
          "output_type": "stream",
          "name": "stdout",
          "text": [
            "Best max_depth value for DecisionTreeClassifier: 4\n",
            "Best score for DecisionTreeClassifier: 0.9473684210526315\n",
            "Best n_estimators value for BaggingClassifier: 10\n",
            "Best score for BaggingClassifier: 0.9649122807017544\n",
            "Best n_estimators value for RandomForestClassifier: 30\n",
            "Best score for RandomForestClassifier: 0.9649122807017544\n"
          ]
        }
      ]
    },
    {
      "cell_type": "markdown",
      "source": [
        "1) ¿Cuál fue la precisión del modelo? (Ya deberían haber determinado esto en el ejercicio de árbol de clasificación)\n",
        "\n",
        "\n",
        "En base a los resultados del accuracy en los distintos modelos, el mejor fue el de Random Forest Classifier con una precision de 96,4% \n",
        "\n",
        "2) ¿Qué condición (maligno o benigno) se considera la clase positiva en este conjunto de datos?\n",
        "\n",
        "maligno se considera la clase positiva por que es la que interesa predecir\n"
      ],
      "metadata": {
        "id": "8p7NDSPPR2yN"
      }
    },
    {
      "cell_type": "code",
      "source": [
        "import matplotlib.pyplot as plt\n",
        "import seaborn as sns\n",
        "from sklearn.metrics import confusion_matrix\n",
        "y_pred_dt = dt_pipe.predict(X_test)\n",
        "confusion_matrix_dt= confusion_matrix(y_test, y_pred_dt)\n",
        "\n",
        "# Crear un gráfico de calor (heatmap) para visualizar la matriz de confusión\n",
        "plt.figure(figsize=(10, 7))\n",
        "sns.heatmap(confusion_matrix_dt, annot=True, fmt='d', cmap='Blues', cbar=False, xticklabels=class_names, yticklabels=class_names)\n",
        "plt.ylabel('Etiqueta verdadera')\n",
        "plt.xlabel('Etiqueta predicha')\n",
        "plt.title('Matriz de confusión para DecisionTreeClassifier')\n",
        "labels = np.array([['TP', 'FN'], ['FP', 'TN']])\n",
        "offset = 0.2  # Ajusta la posición de las etiquetas en la esquina de cada celda\n",
        "\n",
        "for i in range(2):\n",
        "    for j in range(2):\n",
        "        plt.text(j + offset, i + (1 - offset), labels[i, j],\n",
        "                 fontsize=16, fontweight='bold', ha='center', va='center', color='red')\n",
        "\n",
        "plt.show()"
      ],
      "metadata": {
        "colab": {
          "base_uri": "https://localhost:8080/",
          "height": 642
        },
        "id": "ofi6vqMJcyg8",
        "outputId": "741c0155-1db9-4ca5-f78f-3a8c11c4c735"
      },
      "execution_count": 64,
      "outputs": [
        {
          "output_type": "display_data",
          "data": {
            "text/plain": [
              "<Figure size 1000x700 with 1 Axes>"
            ],
            "image/png": "[encoded data removed]"
          },
          "metadata": {}
        }
      ]
    },
    {
      "cell_type": "markdown",
      "source": [
        "\n",
        "3) ¿Cuántos falsos positivos había?\n",
        "\n",
        "3\n",
        "\n",
        "4) ¿Cuántos falsos negativos había?\n",
        "\n",
        "3"
      ],
      "metadata": {
        "id": "d1ph5gU5dwGv"
      }
    },
    {
      "cell_type": "code",
      "source": [
        "y_pred_bc = bc_pipe.predict(X_test)\n",
        "confusion_matrix_bc = confusion_matrix(y_test, y_pred_dt)\n",
        "\n",
        "# Crear un gráfico de calor (heatmap) para visualizar la matriz de confusión\n",
        "plt.figure(figsize=(10, 7))\n",
        "sns.heatmap(confusion_matrix_bc, annot=True, fmt='d', cmap='Blues', cbar=False, xticklabels=class_names, yticklabels=class_names)\n",
        "plt.ylabel('Etiqueta verdadera')\n",
        "plt.xlabel('Etiqueta predicha')\n",
        "plt.title('Matriz de confusión para BaggingClassifier')\n",
        "labels = np.array([['TP', 'FN'], ['FP', 'TN']])\n",
        "offset = 0.2  # Ajusta la posición de las etiquetas en la esquina de cada celda\n",
        "\n",
        "for i in range(2):\n",
        "    for j in range(2):\n",
        "        plt.text(j + offset, i + (1 - offset), labels[i, j],\n",
        "                 fontsize=16, fontweight='bold', ha='center', va='center', color='red')\n",
        "\n",
        "plt.show()"
      ],
      "metadata": {
        "colab": {
          "base_uri": "https://localhost:8080/",
          "height": 642
        },
        "id": "DCiUal7BcyVX",
        "outputId": "f3e9aa78-5e3d-4aba-fb4a-c3c58aff8bef"
      },
      "execution_count": 65,
      "outputs": [
        {
          "output_type": "display_data",
          "data": {
            "text/plain": [
              "<Figure size 1000x700 with 1 Axes>"
            ],
            "image/png": "[encoded data removed]"
          },
          "metadata": {}
        }
      ]
    },
    {
      "cell_type": "markdown",
      "source": [
        "\n",
        "3) ¿Cuántos falsos positivos había?\n",
        "\n",
        "3\n",
        "\n",
        "4) ¿Cuántos falsos negativos había?\n",
        "\n",
        "3"
      ],
      "metadata": {
        "id": "5DdFIWVwdrrK"
      }
    },
    {
      "cell_type": "code",
      "source": [
        "\n",
        "y_pred_rfc = rfc_pipe.predict(X_test)\n",
        "confusion_matrix_rfc = confusion_matrix(y_test, y_pred_rfc)\n",
        "\n",
        "# Crear un gráfico de calor (heatmap) para visualizar la matriz de confusión\n",
        "plt.figure(figsize=(10, 7))\n",
        "sns.heatmap(confusion_matrix_rfc, annot=True, fmt='d', cmap='Blues', cbar=False, xticklabels=class_names, yticklabels=class_names)\n",
        "plt.ylabel('Etiqueta verdadera')\n",
        "plt.xlabel('Etiqueta predicha')\n",
        "plt.title('Matriz de confusión para RandomForestClassifier')\n",
        "labels = np.array([['TP', 'FN'], ['FP', 'TN']])\n",
        "offset = 0.2  # Ajusta la posición de las etiquetas en la esquina de cada celda\n",
        "\n",
        "for i in range(2):\n",
        "    for j in range(2):\n",
        "        plt.text(j + offset, i + (1 - offset), labels[i, j],\n",
        "                 fontsize=16, fontweight='bold', ha='center', va='center', color='red')\n",
        "\n",
        "plt.show()\n",
        "\n"
      ],
      "metadata": {
        "colab": {
          "base_uri": "https://localhost:8080/",
          "height": 642
        },
        "id": "RwxmNdlOR3qV",
        "outputId": "59d68a14-9d07-49c7-9eef-62a4cdf18325"
      },
      "execution_count": 66,
      "outputs": [
        {
          "output_type": "display_data",
          "data": {
            "text/plain": [
              "<Figure size 1000x700 with 1 Axes>"
            ],
            "image/png": "[encoded data removed]"
          },
          "metadata": {}
        }
      ]
    },
    {
      "cell_type": "markdown",
      "source": [
        "\n",
        "3) ¿Cuántos falsos positivos había?\n",
        "\n",
        "1\n",
        "\n",
        "4) ¿Cuántos falsos negativos había?\n",
        "\n",
        "3\n",
        "\n",
        "\n"
      ],
      "metadata": {
        "id": "iXskpETQSg3N"
      }
    },
    {
      "cell_type": "markdown",
      "source": [
        "5) Para el conjunto de datos de cáncer de mama, ¿cuál creen que sea el más problemático: los falsos positivos o los falsos negativos? Expliquen.\n",
        "\n",
        "Falso Negativo: \n",
        "\n",
        "Un falso negativo en el contexto del cáncer de mama significa que el modelo predice que una paciente no tiene cáncer cuando en realidad sí lo tiene. Esto puede ser peligroso porque puede retrasar el tratamiento y poner en riesgo la vida del paciente. "
      ],
      "metadata": {
        "id": "GeznF7ajdmzv"
      }
    }
  ]
}